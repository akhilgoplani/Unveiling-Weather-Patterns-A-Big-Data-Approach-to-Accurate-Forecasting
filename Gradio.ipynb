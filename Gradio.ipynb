{
 "cells": [
  {
   "cell_type": "code",
   "execution_count": 8,
   "id": "c6da5e3e",
   "metadata": {},
   "outputs": [
    {
     "name": "stdout",
     "output_type": "stream",
     "text": [
      "Running on local URL:  http://127.0.0.1:7862\n",
      "Running on public URL: https://790ccd9bd978dfcfc5.gradio.live\n",
      "\n",
      "This share link expires in 72 hours. For free permanent hosting and GPU upgrades, run `gradio deploy` from Terminal to deploy to Spaces (https://huggingface.co/spaces)\n"
     ]
    },
    {
     "data": {
      "text/html": [
       "<div><iframe src=\"https://790ccd9bd978dfcfc5.gradio.live\" width=\"100%\" height=\"500\" allow=\"autoplay; camera; microphone; clipboard-read; clipboard-write;\" frameborder=\"0\" allowfullscreen></iframe></div>"
      ],
      "text/plain": [
       "<IPython.core.display.HTML object>"
      ]
     },
     "metadata": {},
     "output_type": "display_data"
    },
    {
     "data": {
      "text/plain": []
     },
     "execution_count": 8,
     "metadata": {},
     "output_type": "execute_result"
    }
   ],
   "source": [
    "import gradio as gr\n",
    "import pickle\n",
    "import pandas as pd\n",
    "from statsmodels.tsa.statespace.sarimax import SARIMAX\n",
    "\n",
    "# Load the trained model for a specific city\n",
    "def load_model(city_name):\n",
    "    # Convert city name to lowercase\n",
    "    city_name_lower = city_name.lower()\n",
    "    model_file_path = f\"{city_name_lower}_model.pkl\"\n",
    "    with open(model_file_path, 'rb') as f:\n",
    "        model = pickle.load(f)\n",
    "    return model\n",
    "\n",
    "# Your forecast_temperature function\n",
    "def forecast_temperature(city_name, show_average_temperature=False):\n",
    "    # Convert city name to lowercase\n",
    "    city_name_lower = city_name.lower()\n",
    "    \n",
    "    # Load the model for the specified city\n",
    "    model = load_model(city_name_lower)\n",
    "    \n",
    "    # Assuming your model has a method to get the forecast for the next 48 hours\n",
    "    forecast = model.get_forecast(steps=48)  # Replace with your actual method\n",
    "    \n",
    "    # Convert Series to DataFrame\n",
    "    forecast_table = forecast.predicted_mean.reset_index().rename(columns={'index': 'timestamp', 0: 'temperature'})\n",
    "    \n",
    "    # Calculate average temperature if the option is selected\n",
    "    average_temperature = forecast_table['predicted_mean'].mean() if show_average_temperature else None\n",
    "    max_temperature = forecast_table['predicted_mean'].max()\n",
    "    min_temperature = forecast_table['predicted_mean'].min()\n",
    "\n",
    "    # Create the output strings\n",
    "    output_string = f\"Forecasted Temperature for {city_name_lower} °C:\\nForecasted Table:\\n{forecast_table.to_string(index=False)}\"\n",
    "\n",
    "    avg_output_string = f\"Average Temperature: {average_temperature:.2f} °C\" if show_average_temperature else \"\"\n",
    "    max_output_string = f\"Maximum Temperature: {max_temperature:.2f} °C\"\n",
    "    min_output_string = f\"Minimum Temperature: {min_temperature:.2f} °C\"\n",
    "\n",
    "    return output_string, avg_output_string, max_output_string, min_output_string\n",
    "\n",
    "# Create Gradio interface with radio buttons and checkbox\n",
    "city_radio = gr.Radio(\n",
    "    choices=[\"Agartala\", \"Amritsar\", \"Bangalore\", \"Chennai\", \"Delhi\", \"Faridabad\", \"Jabalpur\", \"Mumbai\", \"Pune\", \"Shimla\"],\n",
    "    type=\"value\",  # Corrected parameter value to \"value\"\n",
    "    label=\"Select City\"\n",
    ")\n",
    "\n",
    "checkbox = gr.Checkbox(\n",
    "    label=\"Show Average Temperature\"\n",
    ")\n",
    "\n",
    "iface = gr.Interface(\n",
    "    fn=forecast_temperature,\n",
    "    inputs=[city_radio, checkbox],\n",
    "    outputs=[\"text\", \"text\", \"text\", \"text\"]\n",
    ")\n",
    "\n",
    "# Launch Gradio interface\n",
    "iface.launch(share=True)"
   ]
  },
  {
   "cell_type": "code",
   "execution_count": null,
   "id": "bb003dc2",
   "metadata": {},
   "outputs": [],
   "source": []
  }
 ],
 "metadata": {
  "kernelspec": {
   "display_name": "Python 3 (ipykernel)",
   "language": "python",
   "name": "python3"
  },
  "language_info": {
   "codemirror_mode": {
    "name": "ipython",
    "version": 3
   },
   "file_extension": ".py",
   "mimetype": "text/x-python",
   "name": "python",
   "nbconvert_exporter": "python",
   "pygments_lexer": "ipython3",
   "version": "3.9.18"
  }
 },
 "nbformat": 4,
 "nbformat_minor": 5
}
